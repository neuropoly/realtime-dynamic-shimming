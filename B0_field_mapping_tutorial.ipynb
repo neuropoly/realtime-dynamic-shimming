{
  "cells": [
    {
      "cell_type": "code",
      "execution_count": 15,
      "id": "f624bf16",
      "metadata": {
        "id": "f624bf16"
      },
      "outputs": [],
      "source": [
        "!git clone https://github.com/shimming-toolbox/shimming-toolbox.git\n",
        "%cd /content/shimming-toolbox/\n",
        "!pip install shimming-toolbox/\n",
        "! pip install plotly"
      ]
    },
    {
      "cell_type": "code",
      "execution_count": 2,
      "id": "91a1c34e",
      "metadata": {
        "id": "91a1c34e"
      },
      "outputs": [],
      "source": [
        "import matplotlib.pyplot as plt\n",
        "import plotly.graph_objects as go\n",
        "import plotly.figure_factory as ff\n",
        "import plotly.express as px\n",
        "from plotly.subplots import make_subplots\n",
        "from skimage import io\n",
        "import pandas as pd\n",
        "import scipy as sp\n",
        "import numpy as np\n",
        "import os \n",
        "\n",
        "\n",
        "from shimmingtoolbox.unwrap.unwrap_phase import unwrap_phase\n",
        "from shimmingtoolbox import __dir_testing__\n",
        "from shimmingtoolbox.load_nifti import read_nii"
      ]
    },
    {
      "cell_type": "markdown",
      "id": "22127658",
      "metadata": {
        "id": "22127658"
      },
      "source": [
        "# Introduction"
      ]
    },
    {
      "cell_type": "markdown",
      "id": "1f45a63c",
      "metadata": {
        "id": "1f45a63c"
      },
      "source": [
        "In MRI, homogenous distribution of the main magnetic field ($B_0$) is essential to achieve high-quality images without having significant geometric distortion or undesirable signal dropout. Magnetic field inhomogeneity is expressed as parts per million of the magnetic field strength and is usually measured over a spherical volume within the magnet. While $B_0$ inhomogeneity can originate from hardware imperfections related to manufacturing or the presence of large metallic objects close to the magnet, the majority of field perturbations are subject-specific. The later field perturbations are the result of different magnetic susceptibility of tissues within the human body. Magnetic susceptibility ($\\chi$) is a tissue-specific dimensionless parameter that describes the deviation of magnetic permeability of a given tissue (μ) with respect to the vacuum ($μ_0$), acccording to the following formula: \n",
        "\n",
        "$$ χ = (μ/μ_0) − 1$$\n",
        "\n",
        "Apart from the magnitude of $\\chi$ its sign is also important. Tissues with positive $\\chi$ are referred to as paramagnetic and others with negative $\\chi$ are called diamagnetic. Paramagnetic materials tend to enhance the $B_0$ by aligning towards it while diamagnetics weaken the $B_0$ by aligning in the opposite direction with respect to it.\n",
        "Since most of the human body is consist of water as a diamagnetic ($\\chi = −9.05 × 10^{−6} = −9.05  ppm $) material most of the tissues inside the body are therefore diamagnetic. On the other hand, the most commonly encountered paramagnetic material is air ($\\chi = +0.36 × 10^{−6} = 0.36  ppm $). \n",
        "\n",
        "Taking the brain as an example, the most intense $B_0$ variations are corresponding to the skull base where there are ear canal and air sinuses along with different brain tissues. These local susceptibility differences alter the Larmor frequency ($\\omega $) leading to phase accumulation over time. The greater the difference of $\\chi$ in a volume of interest the greater the spread of phases at the echo time.\n",
        "\n",
        "$$\\omega_0 = \\gamma B_0$$\n",
        "\n",
        "Thus, the reconstructed phase map from the complex signal of MRI contains information related to $B_0$ field variation. However, apart from susceptibility-induced inhomogeneity, there are other contributing factors in phase maps like errors related to the centering of the sampling window, Rf penetration issues especially at high field strength which vary by distance from the surface of the object being imaged as well as problems with Rf receiver that lead to phase variation. \n",
        "Due to the involvement of different sources in phase variations, phase maps can only approximate an upper level of the $\\Delta B_0$ whereas the real variation would be lower. As most of these sources will not change with changing echo time except to the $B_0$ inhomogeneity-induced phase that scales with echo time. So to achieve a $\\Delta B_0$ field map at least two phase maps with different echoes must be acquired. \n",
        "\n",
        "  \n",
        "Hardware-related inhomogeneities are often accounted for by means of passive shimming meaning inserting metallic sheets (usually steel) to compensate the local field inhomogenity. However, this approach fails to provide a robust shimming solution when it comes to considering inter-subject variability due to anatomical discrepancies as well as positioning differences and angulation with respect to the $B_0$ direction (s. Clare et al. 2006). \n",
        "\n",
        "The subject-specific magnetic field distribution is often obtained from the phase evolution during a period of time using an appropriate MRI sequence. While MRI-based $B_0$ mapping can essentially be based on any MRI pulse sequence, the fast gradient-echo (gre) method is commonly used owing to its speed, ease of use, and inherent sensitivity to $B_0$ offsets. \n",
        "\n",
        "There are two general methods to calculate the $B_0$ field map namely: phase subtraction and linear fitting approaches.\n",
        "\n",
        "The problem with phase images is that everything beyond the frequnecy of $\\frac {1} {\\Delta TE}$ will wrapp into $2\\pi$ range.\n",
        "\n",
        "Usually the echo time for the first phase data and the $\\Delta TE $ for the linear fitting approuch are chose to be low enough to prevent wrapping."
      ]
    },
    {
      "cell_type": "code",
      "execution_count": null,
      "id": "a33e7dbb",
      "metadata": {
        "id": "a33e7dbb",
        "outputId": "a5092240-f436-4d45-e614-3578a449177d",
        "colab": {
          "referenced_widgets": [
            "71ca77c245524d64b36b7299a01fdcbe"
          ]
        }
      },
      "outputs": [
        {
          "data": {
            "application/vnd.jupyter.widget-view+json": {
              "model_id": "71ca77c245524d64b36b7299a01fdcbe",
              "version_major": 2,
              "version_minor": 0
            },
            "text/plain": [
              "FigureWidget({\n",
              "    'data': [{'colorscale': [[0.0, 'rgb(255,255,255)'], [0.125,\n",
              "                             'r…"
            ]
          },
          "metadata": {},
          "output_type": "display_data"
        }
      ],
      "source": [
        "interleaved_phase = read_nii('/Users/behrouz/Documents/Code/pythonProject/interleaved_echo_phases.nii')[0]\n",
        "mask = read_nii('/Users/behrouz/Documents/Code/pythonProject/interleaved_echoes_mag_brain_mask.nii')[0]\n",
        "data = interleaved_phase.get_fdata()\n",
        "mask = mask.get_fdata()\n",
        "echotimes = [2.6, 5.2, 9, 13]\n",
        "slice_1 = data[..., 176:180] * mask[..., 176:180]\n",
        "slice_2 = data[..., 220:224] * mask[..., 224:228]\n",
        "\n",
        "pro_RL1 = [slice_1[:,27,i] for i in range(slice_1.shape[2])]\n",
        "pro_AP1 = [slice_1[27,:,i] for i in range(slice_1.shape[2])]\n",
        "pro_RL2 = [slice_2[:,27,i] for i in range(slice_1.shape[2])]\n",
        "pro_AP2 = [slice_2[27,:,i] for i in range(slice_1.shape[2])]\n",
        "xAxis  = slice_1.shape[0]\n",
        "yAxis = slice_1.shape[1]\n",
        "\n",
        "\n",
        "img = make_subplots(rows=3, cols=2, \n",
        "                    column_titles= ['Lower slice','Upper slice'], row_heights=[0.6, 0.2, 0.2])\n",
        "\n",
        "for step in np.arange(0, 4, 1):\n",
        "    img.add_trace(go.Heatmap(z = slice_1[...,step].T,\n",
        "                             x = list(range(0, xAxis)),\n",
        "                             y = list(range(0, yAxis)),\n",
        "                             colorscale='Greys', name = 'phaseVal', visible=False),\n",
        "                             row=1, col=1)\n",
        "    img.add_trace(go.Heatmap(z = slice_2[...,step].T,\n",
        "                             x = list(range(0, xAxis)),\n",
        "                             y = list(range(0, yAxis)),\n",
        "                             colorscale='Greys', name = 'phaseVal', visible=False),\n",
        "                             row=1, col=2)\n",
        "    img.add_scatter(y = np.flip(pro_AP1[step]), row=2 , col=1, visible= False, name = 'phaseVal')\n",
        "    img.add_scatter(y = np.flip(pro_AP2[step]), row=2 , col=2, visible= False, name = 'phaseVal')\n",
        "    img.add_scatter(y = pro_RL1[step], row=3 , col=1, visible= False, name = 'phaseVal')\n",
        "    img.add_scatter(y = pro_RL2[step], row=3 , col=2, visible= False, name = 'phaseVal')\n",
        "\n",
        "\n",
        "img.data[0]['visible'] = True\n",
        "img.data[1]['visible'] = True\n",
        "img.data[2]['visible'] = True\n",
        "img.data[3]['visible'] = True\n",
        "img.data[4]['visible'] = True\n",
        "img.data[5]['visible'] = True\n",
        "\n",
        "steps = []\n",
        "for i, j in zip(range(0, len(img.data), 6), range(4)):\n",
        "    step = dict(\n",
        "        method = 'restyle',  \n",
        "        args = ['visible', [False] * len(img.data)], label = str(echotimes[j]))\n",
        "    step['args'][1][i] = True\n",
        "    step['args'][1][i+1] = True\n",
        "    step['args'][1][i+2] = True\n",
        "    step['args'][1][i+3] = True\n",
        "    step['args'][1][i+4] = True\n",
        "    step['args'][1][i+5] = True\n",
        "    steps.append(step)\n",
        "\n",
        "sliders = [dict(\n",
        "    active =0,\n",
        "    currentvalue = {\"prefix\": \"Echo time: \", \"suffix\":\" ms\" },\n",
        "    steps = steps)]\n",
        "\n",
        "img.layout.sliders = sliders\n",
        "img.update_yaxes(title_text=\"Phase map\", row=1, col=1)\n",
        "img.update_yaxes(title_text=\"AP projection\", row=2, col=1)\n",
        "img.update_yaxes(title_text=\"RL projection\", row=3, col=1)\n",
        "img.update_layout(height=800, width=800, showlegend=False, template='plotly_white', )\n",
        "\n",
        "\n",
        "go.FigureWidget(img)\n",
        "# img.write_html(\"file.html\")\n"
      ]
    },
    {
      "cell_type": "markdown",
      "id": "91fe56f0",
      "metadata": {
        "id": "91fe56f0"
      },
      "source": [
        "## Phase subtraction field mapping"
      ]
    },
    {
      "cell_type": "markdown",
      "id": "b9796d71",
      "metadata": {
        "id": "b9796d71"
      },
      "source": [
        "The field offset can be calculated based on phase difference between the two images with different echo times as following.\n",
        "$$\\Delta B_0 = \\frac{Δφ}{\\Delta TE.2π} $$"
      ]
    },
    {
      "cell_type": "markdown",
      "id": "b834df69",
      "metadata": {
        "id": "b834df69"
      },
      "source": [
        "## Linear fitting field mapping"
      ]
    },
    {
      "cell_type": "code",
      "execution_count": null,
      "id": "bba05d62",
      "metadata": {
        "id": "bba05d62"
      },
      "outputs": [],
      "source": []
    }
  ],
  "metadata": {
    "kernelspec": {
      "display_name": "Python 3 (ipykernel)",
      "language": "python",
      "name": "python3"
    },
    "language_info": {
      "codemirror_mode": {
        "name": "ipython",
        "version": 3
      },
      "file_extension": ".py",
      "mimetype": "text/x-python",
      "name": "python",
      "nbconvert_exporter": "python",
      "pygments_lexer": "ipython3",
      "version": "3.9.13"
    },
    "colab": {
      "provenance": []
    }
  },
  "nbformat": 4,
  "nbformat_minor": 5
}
